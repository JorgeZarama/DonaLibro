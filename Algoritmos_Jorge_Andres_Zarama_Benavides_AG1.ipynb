{
  "nbformat": 4,
  "nbformat_minor": 0,
  "metadata": {
    "colab": {
      "provenance": [],
      "authorship_tag": "ABX9TyN1O4vnnt5TGwhsKJeggdRl",
      "include_colab_link": true
    },
    "kernelspec": {
      "name": "python3",
      "display_name": "Python 3"
    },
    "language_info": {
      "name": "python"
    }
  },
  "cells": [
    {
      "cell_type": "markdown",
      "metadata": {
        "id": "view-in-github",
        "colab_type": "text"
      },
      "source": [
        "<a href=\"https://colab.research.google.com/github/JorgeZarama/DonaLibro/blob/master/Algoritmos_Jorge_Andres_Zarama_Benavides_AG1.ipynb\" target=\"_parent\"><img src=\"https://colab.research.google.com/assets/colab-badge.svg\" alt=\"Open In Colab\"/></a>"
      ]
    },
    {
      "cell_type": "markdown",
      "source": [
        "#Actividada Guiada 1\n",
        "#Algoritmos - Jorge Andrés Zarama Benavides - AG1\n",
        "https://github.com/JorgeZarama/ALGORITMOS-DE-OPTIMIZACI-N"
      ],
      "metadata": {
        "id": "2wPnrkpk3Qxz"
      }
    },
    {
      "cell_type": "code",
      "source": [
        "def torres_hanoi(N, origen, destino, pivote):\n",
        "  if N == 1: \n",
        "    print(f\"Mover bloque desde {origen} a {destino}\")\n",
        "    return\n",
        "  torres_hanoi(N-1, origen, pivote, destino)\n",
        "  print(f\"Mover bloque desde {origen} a {destino}\")\n",
        "  torres_hanoi(N-1, pivote, destino, origen)\n",
        "\n",
        "torres_hanoi(3, 1, 3, 2)"
      ],
      "metadata": {
        "colab": {
          "base_uri": "https://localhost:8080/"
        },
        "id": "PnP64Zx43Xwi",
        "outputId": "ef7f979d-c7a0-411d-ddcb-41560c901dd8"
      },
      "execution_count": 5,
      "outputs": [
        {
          "output_type": "stream",
          "name": "stdout",
          "text": [
            "Mover bloque desde 1 a 3\n",
            "Mover bloque desde 1 a 2\n",
            "Mover bloque desde 3 a 2\n",
            "Mover bloque desde 1 a 3\n",
            "Mover bloque desde 2 a 1\n",
            "Mover bloque desde 2 a 3\n",
            "Mover bloque desde 1 a 3\n"
          ]
        }
      ]
    },
    {
      "cell_type": "code",
      "source": [
        "#Devolver cambio moneda \n",
        "\n",
        "def cambio_monedas(CANTIDAD, SISTEMA):\n",
        "\n",
        "  print(\"SISTEMA: \")\n",
        "  print(SISTEMA)\n",
        "  SOLUCION= [0 for i in range(len(SISTEMA))]\n",
        "  VALOR_ACUMULADO=0\n",
        "  for i in range(len(SISTEMA)):\n",
        "    monedas=int((CANTIDAD-VALOR_ACUMULADO)/SISTEMA[i])\n",
        "    SOLUCION[i]=monedas\n",
        "    VALOR_ACUMULADO += monedas*SISTEMA[i]\n",
        "    if VALOR_ACUMULADO==CANTIDAD: break\n",
        "  return SOLUCION \n",
        "SISTEMA = [25, 10, 5, 1]\n",
        "cambio_monedas(55, SISTEMA)"
      ],
      "metadata": {
        "colab": {
          "base_uri": "https://localhost:8080/"
        },
        "id": "Dl9mcS_Z8KpO",
        "outputId": "3876551a-83f6-4bb6-b693-45411716443c"
      },
      "execution_count": 14,
      "outputs": [
        {
          "output_type": "stream",
          "name": "stdout",
          "text": [
            "SISTEMA: \n",
            "[25, 10, 5, 1]\n"
          ]
        },
        {
          "output_type": "execute_result",
          "data": {
            "text/plain": [
              "[2, 0, 1, 0]"
            ]
          },
          "metadata": {},
          "execution_count": 14
        }
      ]
    },
    {
      "cell_type": "code",
      "source": [],
      "metadata": {
        "id": "pVSOOi6WGSwG"
      },
      "execution_count": null,
      "outputs": []
    }
  ]
}